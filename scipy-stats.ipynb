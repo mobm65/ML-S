{
 "cells": [
  {
   "cell_type": "markdown",
   "id": "00da25cc",
   "metadata": {},
   "source": [
    "## Scipy Stats and an ANOVA hypothesis test\n"
   ]
  },
  {
   "cell_type": "markdown",
   "id": "202bd8ee",
   "metadata": {},
   "source": [
    "According to Scipy documentation it provides *fundamental algorithms for scientific computing in Python.*\n",
    "Scipy stands for scientific python and this tool, although based on Pandas, it provides more optomised algorithms.\n",
    "Scipy is open source and is maintained on Github. It is a scientific computing language in the Python language.\n",
    "\n",
    "Scipy.stats contains a large number of statistical functions.  "
   ]
  },
  {
   "cell_type": "code",
   "execution_count": null,
   "id": "8b3fd0d7",
   "metadata": {},
   "outputs": [],
   "source": [
    "import pandas as pd\n",
    "import numpy as np\n",
    "import seaborn as sn\n",
    "\n",
    "import matplotlib.pyplot as plt\n",
    "from scipy import stats\n",
    "from statsmodels.formula.api import ols\n",
    "from statsmodels.formula.api import rlm\n",
    "import statsmodels.api as sm\n",
    "\n",
    "from statsmodels.sandbox.regression.predstd import (\n",
    "    wls_prediction_std,\n",
    ")"
   ]
  },
  {
   "cell_type": "code",
   "execution_count": null,
   "id": "157095e1",
   "metadata": {},
   "outputs": [],
   "source": [
    "homeless_mar21 = pd.read_csv('/Users/mahon/Downloads/Homeless_mar21.csv')"
   ]
  },
  {
   "cell_type": "code",
   "execution_count": null,
   "id": "a8a90b5c",
   "metadata": {},
   "outputs": [],
   "source": [
    "# ban on evictions and rent hikes ends April 2021. Ukraine war would not have a significant effect on housing in Ireland in Mar 2022.  "
   ]
  },
  {
   "cell_type": "code",
   "execution_count": null,
   "id": "0257508b",
   "metadata": {},
   "outputs": [],
   "source": [
    "homeless_mar21.head()"
   ]
  },
  {
   "cell_type": "code",
   "execution_count": null,
   "id": "bad5a8cf",
   "metadata": {},
   "outputs": [],
   "source": [
    "print(homeless_mar21.describe())"
   ]
  },
  {
   "cell_type": "code",
   "execution_count": null,
   "id": "f28b20d0",
   "metadata": {},
   "outputs": [],
   "source": [
    "homeless_mar21 = homeless_mar21.drop(columns=\"Number of people who accessed Private Emergency Accommodation\")\n"
   ]
  },
  {
   "cell_type": "code",
   "execution_count": null,
   "id": "9e8a2b97",
   "metadata": {},
   "outputs": [],
   "source": [
    "homeless_mar21 = homeless_mar21.drop(columns=\"Number of people who accessed Supported Temporary Accommodation\")"
   ]
  },
  {
   "cell_type": "code",
   "execution_count": null,
   "id": "81b8712e",
   "metadata": {},
   "outputs": [],
   "source": [
    "homeless_mar21 = homeless_mar21.drop(columns=\"Number of people who accessed Temporary Emergency Accommodation\")"
   ]
  },
  {
   "cell_type": "code",
   "execution_count": null,
   "id": "74cc901a",
   "metadata": {},
   "outputs": [],
   "source": [
    "homeless_mar21 = homeless_mar21.drop(columns=\"Number of people who accessed Other Accommodation\")"
   ]
  },
  {
   "cell_type": "code",
   "execution_count": null,
   "id": "5c082f73",
   "metadata": {},
   "outputs": [],
   "source": [
    "homeless_mar21.head()"
   ]
  },
  {
   "cell_type": "code",
   "execution_count": null,
   "id": "7885b141",
   "metadata": {},
   "outputs": [],
   "source": [
    "print(homeless_mar21.describe())"
   ]
  },
  {
   "cell_type": "code",
   "execution_count": null,
   "id": "30853afa",
   "metadata": {},
   "outputs": [],
   "source": [
    "homeless_mar22 = pd.read_csv('/Users/mahon/Downloads/Homeless_mar22.csv')"
   ]
  },
  {
   "cell_type": "code",
   "execution_count": null,
   "id": "b9181dc8",
   "metadata": {},
   "outputs": [],
   "source": [
    "homeless_mar22.head()\n"
   ]
  },
  {
   "cell_type": "code",
   "execution_count": null,
   "id": "5709714b",
   "metadata": {},
   "outputs": [],
   "source": [
    "print(homeless_mar22.describe())"
   ]
  },
  {
   "cell_type": "code",
   "execution_count": null,
   "id": "50cf47c1",
   "metadata": {},
   "outputs": [],
   "source": []
  }
 ],
 "metadata": {
  "kernelspec": {
   "display_name": "Python 3",
   "language": "python",
   "name": "python3"
  },
  "language_info": {
   "codemirror_mode": {
    "name": "ipython",
    "version": 3
   },
   "file_extension": ".py",
   "mimetype": "text/x-python",
   "name": "python",
   "nbconvert_exporter": "python",
   "pygments_lexer": "ipython3",
   "version": "3.8.8"
  }
 },
 "nbformat": 4,
 "nbformat_minor": 5
}
