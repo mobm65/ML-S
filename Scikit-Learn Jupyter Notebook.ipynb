{
 "cells": [
  {
   "cell_type": "markdown",
   "id": "29c7e27e",
   "metadata": {},
   "source": [
    "#SCIKIT-LEARN OVERVIEW\n",
    "\n",
    "    Simple and efficient tools for predictive data analysis\n",
    "    Accessible to everybody, and reusable in various contexts\n",
    "    Built on NumPy, SciPy, and matplotlib\n",
    "    Open source, commercially usable - BSD license\n",
    "Above are the main uses and features of Scikit-Learn as per their own site.[1]\n",
    "\n",
    "Machine learning teaches a computer to make accurate predictions from the data it is given.  Therefore the data given includes the output from a previous program and the data for which we want to predict outcomes. The main types of machine learning are supervised and unsupervised.  \n",
    "\n",
    "Supervised algorithms in Scikit-Learn include; Support Vectors, Nearest Neighbours\n",
    "Multiclass adn multilabel algorithms.  Unsupervised algorithms include Clustering, Manifold\n",
    "Learning, Gaussian mixture models etc.\n",
    "\n",
    "Model selection is the way of choosing between machine learning processes.  Choosing \n",
    "the correct model avoids Overfitting and Underfitting.  Scikit-Learn methods for choosing\n",
    "a model include the following: Cross-validation, tuning hyper-parameters of an \n",
    "estimator, model evaluation, model persistence and validation curves.[2]\n",
    "\n"
   ]
  },
  {
   "cell_type": "code",
   "execution_count": null,
   "id": "46903c63",
   "metadata": {},
   "outputs": [],
   "source": [
    "Citations:\n",
    "    1. https://arxiv.org/abs/1309.0238\n",
    "        API design for machine learning software: experiences from the scikit-learn project, Buitinck et al., 2013.\n",
    "           https://scikit-learn.org/ \n",
    "            \n",
    "    2. https://medium.com/\n",
    "        \n",
    "    "
   ]
  }
 ],
 "metadata": {
  "kernelspec": {
   "display_name": "Python 3",
   "language": "python",
   "name": "python3"
  },
  "language_info": {
   "codemirror_mode": {
    "name": "ipython",
    "version": 3
   },
   "file_extension": ".py",
   "mimetype": "text/x-python",
   "name": "python",
   "nbconvert_exporter": "python",
   "pygments_lexer": "ipython3",
   "version": "3.8.8"
  }
 },
 "nbformat": 4,
 "nbformat_minor": 5
}
